{
 "cells": [
  {
   "cell_type": "code",
   "execution_count": 17,
   "metadata": {},
   "outputs": [
    {
     "ename": "AttributeError",
     "evalue": "type object 'Exception' has no attribute 'error'",
     "output_type": "error",
     "traceback": [
      "\u001b[1;31m---------------------------------------------------------------------------\u001b[0m",
      "\u001b[1;31merror\u001b[0m                                     Traceback (most recent call last)",
      "\u001b[1;32m<ipython-input-17-b821599ce06a>\u001b[0m in \u001b[0;36mread_email_from_gmail\u001b[1;34m()\u001b[0m\n\u001b[0;32m     11\u001b[0m         \u001b[0mmail\u001b[0m \u001b[1;33m=\u001b[0m \u001b[0mimaplib\u001b[0m\u001b[1;33m.\u001b[0m\u001b[0mIMAP4_SSL\u001b[0m\u001b[1;33m(\u001b[0m\u001b[0mSMTP_SERVER\u001b[0m\u001b[1;33m)\u001b[0m\u001b[1;33m\u001b[0m\u001b[0m\n\u001b[1;32m---> 12\u001b[1;33m         \u001b[0mmail\u001b[0m\u001b[1;33m.\u001b[0m\u001b[0mlogin\u001b[0m\u001b[1;33m(\u001b[0m\u001b[0mFROM_EMAIL\u001b[0m\u001b[1;33m,\u001b[0m\u001b[0mFROM_PWD\u001b[0m\u001b[1;33m)\u001b[0m\u001b[1;33m\u001b[0m\u001b[0m\n\u001b[0m\u001b[0;32m     13\u001b[0m         \u001b[0mmail\u001b[0m\u001b[1;33m.\u001b[0m\u001b[0mselect\u001b[0m\u001b[1;33m(\u001b[0m\u001b[1;34m'inbox'\u001b[0m\u001b[1;33m)\u001b[0m\u001b[1;33m\u001b[0m\u001b[0m\n",
      "\u001b[1;32mC:\\ProgramData\\Miniconda3\\lib\\imaplib.py\u001b[0m in \u001b[0;36mlogin\u001b[1;34m(self, user, password)\u001b[0m\n\u001b[0;32m    592\u001b[0m         \u001b[1;32mif\u001b[0m \u001b[0mtyp\u001b[0m \u001b[1;33m!=\u001b[0m \u001b[1;34m'OK'\u001b[0m\u001b[1;33m:\u001b[0m\u001b[1;33m\u001b[0m\u001b[0m\n\u001b[1;32m--> 593\u001b[1;33m             \u001b[1;32mraise\u001b[0m \u001b[0mself\u001b[0m\u001b[1;33m.\u001b[0m\u001b[0merror\u001b[0m\u001b[1;33m(\u001b[0m\u001b[0mdat\u001b[0m\u001b[1;33m[\u001b[0m\u001b[1;33m-\u001b[0m\u001b[1;36m1\u001b[0m\u001b[1;33m]\u001b[0m\u001b[1;33m)\u001b[0m\u001b[1;33m\u001b[0m\u001b[0m\n\u001b[0m\u001b[0;32m    594\u001b[0m         \u001b[0mself\u001b[0m\u001b[1;33m.\u001b[0m\u001b[0mstate\u001b[0m \u001b[1;33m=\u001b[0m \u001b[1;34m'AUTH'\u001b[0m\u001b[1;33m\u001b[0m\u001b[0m\n",
      "\u001b[1;31merror\u001b[0m: b'[ALERT] Please log in via your web browser: https://support.google.com/mail/accounts/answer/78754 (Failure)'",
      "\nDuring handling of the above exception, another exception occurred:\n",
      "\u001b[1;31mAttributeError\u001b[0m                            Traceback (most recent call last)",
      "\u001b[1;32m<ipython-input-17-b821599ce06a>\u001b[0m in \u001b[0;36m<module>\u001b[1;34m()\u001b[0m\n\u001b[0;32m     35\u001b[0m         \u001b[0mprint\u001b[0m\u001b[1;33m(\u001b[0m\u001b[0mException\u001b[0m\u001b[1;33m.\u001b[0m\u001b[0merror\u001b[0m\u001b[1;33m)\u001b[0m\u001b[1;33m\u001b[0m\u001b[0m\n\u001b[0;32m     36\u001b[0m \u001b[1;33m\u001b[0m\u001b[0m\n\u001b[1;32m---> 37\u001b[1;33m \u001b[0mread_email_from_gmail\u001b[0m\u001b[1;33m(\u001b[0m\u001b[1;33m)\u001b[0m\u001b[1;33m\u001b[0m\u001b[0m\n\u001b[0m",
      "\u001b[1;32m<ipython-input-17-b821599ce06a>\u001b[0m in \u001b[0;36mread_email_from_gmail\u001b[1;34m()\u001b[0m\n\u001b[0;32m     33\u001b[0m \u001b[1;33m\u001b[0m\u001b[0m\n\u001b[0;32m     34\u001b[0m     \u001b[1;32mexcept\u001b[0m \u001b[0mException\u001b[0m\u001b[1;33m:\u001b[0m\u001b[1;33m\u001b[0m\u001b[0m\n\u001b[1;32m---> 35\u001b[1;33m         \u001b[0mprint\u001b[0m\u001b[1;33m(\u001b[0m\u001b[0mException\u001b[0m\u001b[1;33m.\u001b[0m\u001b[0merror\u001b[0m\u001b[1;33m)\u001b[0m\u001b[1;33m\u001b[0m\u001b[0m\n\u001b[0m\u001b[0;32m     36\u001b[0m \u001b[1;33m\u001b[0m\u001b[0m\n\u001b[0;32m     37\u001b[0m \u001b[0mread_email_from_gmail\u001b[0m\u001b[1;33m(\u001b[0m\u001b[1;33m)\u001b[0m\u001b[1;33m\u001b[0m\u001b[0m\n",
      "\u001b[1;31mAttributeError\u001b[0m: type object 'Exception' has no attribute 'error'"
     ]
    }
   ],
   "source": [
    "#gmail contacts analyzer --> requires oauth \n",
    "#facebook friends analyzer --> requires fb dev account \n",
    "#linkedIn friends analyzer --> requires linkedin dev account \n",
    "#named entity recognition from description  --> doable but requires NLTK meaning it has to be run on EC2 \n",
    "\n",
    "\n",
    "#voice control HTML --> doable voice-beta.html --> finished. Located in voice-beta \n",
    "#google search of news and name --> doable \n",
    "\n",
    "#meetups API --> suggested events --> doable \n",
    "\n",
    "#multiple examples of networks --> doable --> database manipulation \n",
    "\n",
    "import smtplib\n",
    "import time\n",
    "import imaplib\n",
    "import email\n",
    "\n",
    "FROM_EMAIL = \"wu4school@gmail.com\"\n",
    "FROM_PWD = \"WellHello34\"\n",
    "SMTP_SERVER = \"smtp.gmail.com\"\n",
    "def read_email_from_gmail():\n",
    "    try:\n",
    "        mail = imaplib.IMAP4_SSL(SMTP_SERVER)\n",
    "        mail.login(FROM_EMAIL,FROM_PWD)\n",
    "        mail.select('inbox')\n",
    "        print(mail)\n",
    "        type, data = mail.search(None, 'ALL')\n",
    "        mail_ids = data[0]\n",
    "\n",
    "        id_list = mail_ids.split()   \n",
    "        first_email_id = int(id_list[0])\n",
    "        latest_email_id = int(id_list[-1])\n",
    "\n",
    "\n",
    "        for i in range(latest_email_id,first_email_id, -1):\n",
    "            typ, data = mail.fetch(i, '(RFC822)' )\n",
    "\n",
    "            for response_part in data:\n",
    "                if isinstance(response_part, tuple):\n",
    "                    msg = email.message_from_string(response_part[1])\n",
    "                    email_subject = msg['subject']\n",
    "                    email_from = msg['from']\n",
    "                    print('From : ' + email_from + '\\n')\n",
    "                    print('Subject : ' + email_subject + '\\n')\n",
    "\n",
    "    except Exception:\n",
    "        print(Exception.error)\n",
    "        \n",
    "read_email_from_gmail()"
   ]
  },
  {
   "cell_type": "code",
   "execution_count": null,
   "metadata": {},
   "outputs": [],
   "source": []
  },
  {
   "cell_type": "code",
   "execution_count": 27,
   "metadata": {},
   "outputs": [
    {
     "name": "stdout",
     "output_type": "stream",
     "text": [
      "['biomedical student', 'columbia']\n"
     ]
    }
   ],
   "source": [
    "from textblob import TextBlob \n",
    "\n",
    "#Execute \"nltk.download()\" and copy it to the root folder of your AWS lambda application. (The folder should be called \"nltk_data\".)\n",
    "#In the user interface of your lambda function (in the AWS console), you add \"NLTK_DATA\" = \"./nltk_data\". Please see the image. \n",
    "\n",
    "txt = \"\"\"She is a biomedical student at Columbia university. She does research at the labs in the summer\"\"\"\n",
    "blob = TextBlob(txt)\n",
    "print(blob.noun_phrases)"
   ]
  },
  {
   "cell_type": "code",
   "execution_count": 9,
   "metadata": {},
   "outputs": [
    {
     "name": "stdout",
     "output_type": "stream",
     "text": [
      "Los Altos94022\n",
      "['https://www.meetup.com/EXPLORETHEBAY/events/250305674/', 'Karaoke and dancing', '*Explore The Bay (ETB)', '36', 'Tue 08, 07:00PM']\n",
      "['https://www.meetup.com/EXPLORETHEBAY/events/250384793/', 'New Member Extended Happy Hour Mixer in Palo Alto', '*Explore The Bay (ETB)', '142', 'Fri 11, 06:30PM']\n",
      "['https://www.meetup.com/EXPLORETHEBAY/events/249852907/', 'Craft Cocktails and Live DJ in Palo Alto', '*Explore The Bay (ETB)', '132', 'Thu 17, 06:00PM']\n",
      "['https://www.meetup.com/eventsoftribe/events/250223953/', 'Newbie Happy Hour - Welcome to the Tribe ', 'Tribe [21-32]', '25', 'Thu 10, 06:00PM']\n",
      "['https://www.meetup.com/eventsoftribe/events/249987045/', 'New Member Dinner Tuesdays- Palo Alto Downtown', 'Tribe [21-32]', '10', 'Tue 15, 07:00PM']\n",
      "['https://www.meetup.com/45-South-Bay-Social-Singles/events/250188367/', 'Flute Music from Mexican Composers in California', '45+ South Bay Social & Hiking Singles', '8', 'Thu 10, 06:55PM']\n",
      "['https://www.meetup.com/45-South-Bay-Social-Singles/events/250237428/', 'Blue Pheasant Happy Hour', '45+ South Bay Social & Hiking Singles', '33', 'Fri 18, 04:30PM']\n",
      "['https://www.meetup.com/eventsoftribe/events/249987013/', 'New Member Dinner Tuesdays- Mountain View Downtown', 'Tribe [21-32]', '11', 'Tue 08, 07:00PM']\n",
      "['https://www.meetup.com/SiliconValleySocial/events/250487262/', 'New Member Mixer With Extended Happy Hour in Palo Alto', '*Silicon Valley Social (SVS)', '119', 'Fri 11, 07:00PM']\n",
      "['https://www.meetup.com/Redwood-City-Social-Meetup/events/249840949/', 'Dinner @ City Pub (Redwood City)', 'Redwood City Social Meetup', '10', 'Tue 15, 07:00PM']\n"
     ]
    }
   ],
   "source": [
    "\n",
    "import requests\n",
    "import json\n",
    "import time\n",
    "import datetime \n",
    "\n",
    "def main(): \n",
    "    cities =[(\"Bridgeport\",\"CT\")]\n",
    "    api_key= \"4b2b7c173622721682d505b38682421\" \n",
    "    result = \"Here are 3 upcoming events based on your preferred location: \"\n",
    "    for (city, state) in cities:\n",
    "        per_page = 3\n",
    "        results_we_got = per_page\n",
    "        offset = 0\n",
    "        if (results_we_got > 0):\n",
    "            # Meetup.com documentation here: http://www.meetup.com/meetup_api/docs/2/groups/\n",
    "            response=get_results({\"sign\":\"true\",\"country\":\"US\", \"city\":city, \"state\":state, \"radius\": 10, \"key\":api_key, \"page\":per_page, \"offset\":offset })\n",
    "            time.sleep(1)\n",
    "            offset += 1 \n",
    "            result += \"(\"+response['city']['city']+\", \"+response['city']['zip']+\")\" \n",
    "            for event in response['events'][0:per_page]:\n",
    "                link = event['link']\n",
    "                eventname = event['name']\n",
    "                eventgroup = event['group']['name'] \n",
    "                rsvps = event['yes_rsvp_count']\n",
    "                \n",
    "                s = event['time'] + event['utc_offset']\n",
    "                when = time.strftime('%a %b %d, %I:%M%p', time.gmtime(s/1000.0))\n",
    "                \n",
    "                result += \"<a href='\"+link+\"'>\"\n",
    "                result += eventname + \" (Hosted by \"+eventgroup+\", Current RSVPs:\"+str(rsvps)+\") is happening on \" + when\n",
    "                result += \"</a>\"\n",
    "                #print([link, eventname, eventgroup, str(rsvps), when]) \n",
    "    return result \n",
    "        \n",
    "def get_results(params):\n",
    "    request = requests.get(\"http://api.meetup.com/find/upcoming_events\",params=params)\n",
    "    data = request.json()\n",
    "    return data\n",
    "\n",
    "main()"
   ]
  },
  {
   "cell_type": "code",
   "execution_count": 1,
   "metadata": {},
   "outputs": [
    {
     "name": "stdout",
     "output_type": "stream",
     "text": [
      "Test\n"
     ]
    }
   ],
   "source": [
    "print(\"Test\")"
   ]
  },
  {
   "cell_type": "code",
   "execution_count": null,
   "metadata": {},
   "outputs": [],
   "source": []
  }
 ],
 "metadata": {
  "kernelspec": {
   "display_name": "Python 3",
   "language": "python",
   "name": "python3"
  },
  "language_info": {
   "codemirror_mode": {
    "name": "ipython",
    "version": 3
   },
   "file_extension": ".py",
   "mimetype": "text/x-python",
   "name": "python",
   "nbconvert_exporter": "python",
   "pygments_lexer": "ipython3",
   "version": "3.6.3"
  }
 },
 "nbformat": 4,
 "nbformat_minor": 2
}
